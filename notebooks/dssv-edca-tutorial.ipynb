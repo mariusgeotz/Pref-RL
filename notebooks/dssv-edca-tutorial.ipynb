{
 "cells": [
  {
   "cell_type": "markdown",
   "metadata": {},
   "source": [
    "# Preference-based Reinforcement learning\n",
    "## Configuring an agent\n",
    "We will first define an agent using our PbRL-framework. An agent needs functionality to:\n",
    "- generate query candidates\n",
    "- select queries\n",
    "- present queries and collect preferences\n",
    "- train the reward model\n",
    "\n",
    "For this, we mix concrete implementations into an abstract agent shell via multiple\n",
    "inheritance and specify the constructor:"
   ]
  },
  {
   "cell_type": "markdown",
   "metadata": {},
   "source": [
    "## Training the agent\n",
    "We are now ready to train the agent. The agent will:\n",
    " - conduct reinforcement learning in the given environment,\n",
    " - thereby generating trajectories\n",
    " - that will be combined into queries and posed to an oracle,\n",
    " - which are then used to train the reward model.\n",
    "The whole process ends once the agent ran 200,000 timesteps in the environment."
   ]
  },
  {
   "cell_type": "code",
   "execution_count": null,
   "metadata": {
    "pycharm": {
     "is_executing": true,
     "name": "#%%\n"
    }
   },
   "outputs": [],
   "source": [
    "from agent.preference_based.sequential.sequential_pbrl_agent import SequentialPbRLAgent\n",
    "from wrappers.utils import create_env\n",
    "\n",
    "env = create_env(\"MountainCar-v0\", termination_penalty=10.)\n",
    "\n",
    "agent = SequentialPbRLAgent(env=env, num_pretraining_epochs=8,\n",
    "                                num_training_epochs_per_iteration=16,\n",
    "                                preferences_per_iteration=32)\n",
    "\n",
    "agent.learn_reward_model(num_training_timesteps=200000, num_pretraining_preferences=512)\n",
    "\n",
    "env.close()"
   ]
  },
  {
   "cell_type": "markdown",
   "metadata": {},
   "source": [
    "We can monitor the learning process via TensorBoard. Start TensorBoard in a terminal:\n",
    "\n",
    "```\n",
    "tensorboard --logdir=runs\n",
    "```"
   ]
  },
  {
   "cell_type": "code",
   "execution_count": null,
   "metadata": {
    "pycharm": {
     "is_executing": true,
     "name": "#%%\n"
    }
   },
   "outputs": [],
   "source": []
  }
 ],
 "metadata": {
  "kernelspec": {
   "display_name": "Python 3",
   "language": "python",
   "name": "python3"
  },
  "language_info": {
   "codemirror_mode": {
    "name": "ipython",
    "version": 3
   },
   "file_extension": ".py",
   "mimetype": "text/x-python",
   "name": "python",
   "nbconvert_exporter": "python",
   "pygments_lexer": "ipython3",
   "version": "3.8.5"
  },
  "varInspector": {
   "cols": {
    "lenName": 16,
    "lenType": 16,
    "lenVar": 40
   },
   "kernels_config": {
    "python": {
     "delete_cmd_postfix": "",
     "delete_cmd_prefix": "del ",
     "library": "var_list.py",
     "varRefreshCmd": "print(var_dic_list())"
    },
    "r": {
     "delete_cmd_postfix": ") ",
     "delete_cmd_prefix": "rm(",
     "library": "var_list.r",
     "varRefreshCmd": "cat(var_dic_list()) "
    }
   },
   "types_to_exclude": [
    "module",
    "function",
    "builtin_function_or_method",
    "instance",
    "_Feature"
   ],
   "window_display": false
  }
 },
 "nbformat": 4,
 "nbformat_minor": 1
}
